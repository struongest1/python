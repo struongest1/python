{
  "cells": [
    {
      "cell_type": "markdown",
      "id": "40d3f376",
      "metadata": {
        "id": "40d3f376"
      },
      "source": [
        "# Hello, Python\n",
        "\n",
        "## Introduction to Python  \n",
        "Data Sciences Institute, University of Toronto\n",
        "\n",
        "Instructor: Kaylie Lau | TA: Julia Gallucci\n",
        "\n",
        "January 2024"
      ]
    },
    {
      "cell_type": "markdown",
      "id": "e5e5ab47",
      "metadata": {
        "id": "e5e5ab47"
      },
      "source": [
        "# Contents:\n",
        "\n",
        "1. Welcome!\n",
        "2. Course Logistics\n",
        "3. Key Texts\n",
        "4. Setup\n",
        "5. Course Tour"
      ]
    },
    {
      "cell_type": "markdown",
      "id": "73f58102",
      "metadata": {
        "id": "73f58102"
      },
      "source": [
        "# Welcome!\n",
        "\n",
        "The course introduces the Python programming language starting from its basics, working up to loading, manipulating, and visualizing real datasets with popular data science libraries. You will learn how to design functions, repeat code using loops, store data in lists, test and debug your code, and manipulate data using various data analysis and visualization tools such as `numpy`, `pandas`, `matplotlib`, `seaborn`, and `plotly`.\n"
      ]
    },
    {
      "cell_type": "markdown",
      "id": "deec149f",
      "metadata": {
        "id": "deec149f"
      },
      "source": [
        "## Land Acknowledgement:\n",
        "\n",
        "We wish to acknowledge this land on which the University of Toronto operates. For thousands of years it has been the traditional land of the Huron-Wendat, the Seneca, and the Mississaugas of the Credit River. Today, this meeting place is still the home to many Indigenous people from across Turtle Island and we are grateful to have the opportunity to work on this land."
      ]
    },
    {
      "cell_type": "markdown",
      "id": "35623595",
      "metadata": {
        "id": "35623595"
      },
      "source": [
        "# Course Logistics"
      ]
    },
    {
      "cell_type": "markdown",
      "id": "6e110f37",
      "metadata": {
        "id": "6e110f37"
      },
      "source": [
        "## Course contacts\n",
        "\n",
        "**Instructor: Kaylie Lau (she/her)**  \n",
        "Email: kaylie.lau@mail.utoronto.ca\n",
        "\n",
        "\n",
        "**TA: Julia Gallucci (she/her)**  \n",
        "Email: julia.gallucci@mail.utoronto.ca"
      ]
    },
    {
      "cell_type": "markdown",
      "id": "c0e5e1d5",
      "metadata": {
        "id": "c0e5e1d5"
      },
      "source": [
        "## Pre-Course Work\n",
        "Before the first class please get your computer set up by following these instructions: https://github.com/UofT-DSI/Onboarding/tree/tech-onboarding-docs\n"
      ]
    },
    {
      "cell_type": "markdown",
      "id": "7da4d8a1",
      "metadata": {
        "id": "7da4d8a1"
      },
      "source": [
        "## Design\n",
        "The course runs synchronously over Zoom. The Python section consists of eight classes over two weeks. Classes are 6:00 PM - 8:30 PM EDT on weekdays, and 9:00 AM - 11:30 AM EDT on Saturday. Being mindful of online fatigue, there will be one or two breaks during each class where students are encouraged to stretch, grab a drink and snacks, or ask any additional questions. \n",
        "\n",
        "Tutorial sessions with a TA will also be offered over Zoom. These will take place from 5:30 PM - 6:00 PM EDT and 8:30 PM - 9:00 PM on weekdays, and 8:30 AM - 9:00 AM EDT and 11:30 AM - 12:00 PM EDT on Saturdays. "
      ]
    },
    {
      "cell_type": "markdown",
      "id": "KQUA8VThM4JV",
      "metadata": {
        "id": "KQUA8VThM4JV"
      },
      "source": [
        "## Schedule\n",
        "The schedule is tentative and may be modified as needed. Learners will be notified of schedule changes.\n",
        "* **Day 1 (Monday, January 22, 6:00 PM - 8:30 PM):** Getting Started I (Introduction; Python fundamentals)\n",
        "* **Day 2 (Tuesday, January 23, 6:00 PM - 8:30 PM):** Getting Started II (Python fundamentals)\n",
        "* **Day 3 (Wednesday, January 24, 6:00 PM - 8:30 PM):** Dealing with Reality (Control flow using conditionals and loops; Lists, tuples, sets, and dictionaries)\n",
        "* **Day 4 (Thursday, January 25, 6:00 PM - 8:30 PM):** In/Out (Modules; Working with files; Object-oriented programming)\n",
        "* **Day 5 (Tuesday, January 30, 6:00 PM - 8:30 PM):** Doing More with Data I (`numpy`)\n",
        "* **Day 6 (Wednesday, January 31, 6:00 PM - 8:30 PM):** Doing More with Data II (`pandas`)\n",
        "* **Day 7 (Thursday, February 1, 6:00 PM - 8:30 PM):** Visualizing Data (`matplotlib`; `seaborn`; `plotly`)\n",
        "* **Day 8 (Saturday, February 3, 9:00 AM - 11:30 AM):** Case Study Speaker"
      ]
    },
    {
      "cell_type": "markdown",
      "id": "003cd01a",
      "metadata": {
        "id": "003cd01a"
      },
      "source": [
        "## Prerequisites\n",
        "\n",
        "Learners are expected to know how to operate a computer and are also expected to be familiar with the parts of a data table or spreadsheet, summary statistics, and basic data visualizations. No prior programming knowledge is required."
      ]
    },
    {
      "cell_type": "markdown",
      "id": "a9ec5245",
      "metadata": {
        "id": "a9ec5245"
      },
      "source": [
        "## Expectations\n",
        "The course is a live coding class. Learners are expected to follow along with the coding in their own Python notebooks. Learners should be active participants while coding and are encouraged to ask questions throughout. Although slides will be available, they should be referenced before or after class, as the class will be dedicated to coding with the instructor.\n",
        "\n",
        "### Technology requirements\n",
        "* Learners must have a computer and an internet connection to participate in online activities.\n",
        "* Learners must have set up their computer using this [link](https://github.com/UofT-DSI/Onboarding/tree/tech-onboarding-docs)."
      ]
    },
    {
      "cell_type": "markdown",
      "id": "EFVeHat6OMhL",
      "metadata": {
        "id": "EFVeHat6OMhL"
      },
      "source": [
        "## Policies\n",
        "\n",
        "* **Accessibility:** We want to provide an accessible learning environment for all. If there is something we can do to make this course more accessible to you, please let us know.\n",
        "* **Course communications:** Communications take place over email or on Slack. If communicating over email, please include \"DSI-Python\" or similar in the subject line, e.g. \"DSI-Python: pandas question\"\n",
        "* **Camera:** Keeping your camera on is optional.\n",
        "* **Microphone:** Please keep microphones muted unless you need to speak. Please indicate your name before speaking as some Zoom configurations make it hard to tell who is talking!\n",
        "* **Assessment:** There will be homework which is **not** graded, but highly recommended, and there will be three assignments which **are** graded."
      ]
    },
    {
      "cell_type": "markdown",
      "id": "uaXzZKButBL7",
      "metadata": {
        "id": "uaXzZKButBL7"
      },
      "source": [
        "## All course materials can be found on GitHub: https://github.com/UofT-DSI/python"
      ]
    },
    {
      "cell_type": "markdown",
      "id": "jnznMIfq9PH9",
      "metadata": {
        "id": "jnznMIfq9PH9"
      },
      "source": [
        "\n",
        "### Assignments\n",
        "\n",
        "* **Class attendance**: To ensure everyone actively participates in class activities, attendance is mandatory and will be monitored. If you are unable to attend class, it is your responsibility to make up the work that was covered.\n",
        "* [Assignment 1](https://github.com/UofT-DSI/03-python/blob/main/05-assignments/assignment_1.ipynb#/)\n",
        "* [Assignment 2](https://github.com/UofT-DSI/03-python/blob/main/05-assignments/assignment_2.ipynb#/)\n",
        "\n",
        "| Format | Details | Submission Instructions |\n",
        "| :----: | :----- | :---------------------- |\n",
        "| Assignment 1 | Due on **Tuesday, January 30 at 11:59pm** | Submit assignment via your Google Drive. Upload your code file (LASTNAME_FIRSTNAME_python_assignment1_code.ipynb). |\n",
        "| Assignment 2 | Due on **Tuesday, February 6 at 11:59pm** | Submit assignment via your Google Drive. Upload your (1) code file (LASTNAME_FIRSTNAME_python_assignment2_code.ipynb), (2) original data file (LASTNAME_FIRSTNAME_python_assignment2_orig.csv), and (3) processed DataFrame file (LASTNAME_FIRSTNAME_python_assignment2_proc.csv) |\n"
      ]
    },
    {
      "cell_type": "markdown",
      "id": "8a5d4910",
      "metadata": {
        "id": "8a5d4910"
      },
      "source": [
        "## Key Texts\n",
        "\n",
        "- Gries, P., Campbell, J., Montojo, J., & Coron, T. (2017). *Practical programming: An introduction to computer science using python 3.6.*\n",
        "- Adhikari, DeNero, and Wagner, (2021). *Computational and Inferential Thinking: The Foundations of Data Science.*\n",
        "- Thomas, R. (2021). *Avoiding Data Disasters*. https://www.fast.ai/2021/11/04/data-disasters/\n",
        "- Boykis, V. (2019). *Neural nets are just people all the way down.* https://vicki.substack.com/p/neural-nets-are-just-people-all-the\n"
      ]
    },
    {
      "cell_type": "markdown",
      "id": "92258b2e",
      "metadata": {
        "id": "92258b2e"
      },
      "source": [
        "# Jupyter Notebooks\n",
        "Jupyter Notebooks are web applications that lets us combine pieces of executable code, text, images, and visualizations in a single document, or notebook. We have installed a Jupyter Extension that lets us run notebooks directly in Visual Studio Code (VS Code)."
      ]
    },
    {
      "cell_type": "markdown",
      "id": "d96e1b69",
      "metadata": {
        "id": "d96e1b69"
      },
      "source": [
        "Sections of a notebook are called cells. Cells can be run independently of each other, and in any order.\n",
        "\n",
        "## Check your Python version\n",
        "\n",
        "Try adding and running your first code cells.\n",
        "\n",
        "1. Add a cell by clicking the **+ Code**.\n",
        "2. Enter the following: `!python --version`.\n",
        "3. Press `ctrl` + `enter` to run the cell.\n",
        "\n",
        "You should see Python 3.6 or higher."
      ]
    },
    {
      "cell_type": "code",
      "execution_count": 9,
      "id": "Ui707qydh5tf",
      "metadata": {
        "colab": {
          "base_uri": "https://localhost:8080/"
        },
        "id": "Ui707qydh5tf",
        "outputId": "cb39e4d0-5d0d-4dd6-a215-accace7d9324"
      },
      "outputs": [
        {
          "name": "stdout",
          "output_type": "stream",
          "text": [
            "Python 3.11.5\n"
          ]
        }
      ],
      "source": [
        "!python --version"
      ]
    },
    {
      "cell_type": "markdown",
      "id": "08006e18",
      "metadata": {
        "id": "08006e18"
      },
      "source": [
        "## Adding text\n",
        "\n",
        "Notebooks use markdown, a markup language, for formatting text. IBM publishes a [Jupyter-specific markdown cheat sheet](https://www.ibm.com/docs/en/watson-studio-local/1.2.3?topic=notebooks-markdown-jupyter-cheatsheet).\n",
        "\n",
        "To add a text cell:\n",
        "1. Click **+ Markdown**\n",
        "2. Add some text. When you are done editing, press `ctrl` + `enter` to run the cell and format your text."
      ]
    },
    {
      "cell_type": "markdown",
      "id": "SGTL0-unuFjf",
      "metadata": {
        "id": "SGTL0-unuFjf"
      },
      "source": [
        "To use VS Code with the Jupyter extension for writing and running code, follow these modified steps:\n",
        "\n",
        "## Writing and Running Code in VS Code with Jupyter Extension\n",
        "\n",
        "1. **Writing Code Cells:**\n",
        "   - Use code cells to write your Python code. To create a new code cell, click on the `+ Code` button in the Jupyter toolbar.\n",
        "   - Type or paste your Python code within the code cell.\n",
        "\n",
        "2. **Running Code Cells:**\n",
        "   - To execute a code cell, you can:\n",
        "     - Click the `Run Cell` button (a triangle icon) in the Jupyter toolbar.\n",
        "     - Use the keyboard shortcut `Shift + Enter`.\n",
        "   - Output, if any, will be displayed below the cell after execution.\n",
        "\n",
        "3. **Keyboard Shortcuts:**\n",
        "   - Utilize keyboard shortcuts for faster execution:\n",
        "     - `Shift + Enter`: Run the current cell and move to the next cell.\n",
        "     - `Ctrl + Enter`: Run the current cell and stay on the same cell.\n",
        "     - `Alt + Enter`: Run the current cell and insert a new cell below.\n",
        "\n",
        "4. **Code Assistance and Auto-completion:**\n",
        "   - The Jupyter extension in VS Code offers code assistance and auto-completion. Press `Tab` for suggestions while writing code.\n",
        "\n",
        "5. **Saving and Renaming:**\n",
        "   - Save your Jupyter notebook by clicking on `File` > `Save` or `File` > `Save As...`.\n",
        "   - To rename the notebook, right-click on the notebook file in the file explorer on the left and select `Rename`.\n",
        "\n",
        "6. **Managing Cells:**\n",
        "   - Use the `+ Code` or `+ Markdown` buttons in the Jupyter toolbar to add new code or text cells, respectively.\n",
        "   - You can rearrange the order of cells by clicking and dragging them in the Jupyter notebook.\n",
        "   - Right-click on a cell in the Jupyter notebook to access options like deleting or moving the cell."
      ]
    },
    {
      "cell_type": "markdown",
      "id": "srhPt2y5rn3O",
      "metadata": {
        "id": "srhPt2y5rn3O"
      },
      "source": [
        "No problem! If you won't be using Google Colab or Drive, and you want to work exclusively in Visual Studio Code, here are modified instructions:\n",
        "\n",
        "## Instructions for Accessing and Using the `data` Folder in Visual Studio Code\n",
        "\n",
        "1. **Access GitHub Repository:**\n",
        "   - Go to your GitHub repository where the `data` folder is located: [https://github.com/UofT-DSI/python](https://github.com/UofT-DSI/python)\n",
        "   - Clone the repository to your local machine using the following command in your terminal or command prompt:\n",
        "     ```\n",
        "     git clone https://github.com/UofT-DSI/python.git\n",
        "     ```\n",
        "   - Navigate to the cloned repository on your local machine.\n",
        "\n",
        "2. **Access and Use the `data` Folder in Visual Studio Code:**\n",
        "   - Open Visual Studio Code.\n",
        "   - Open the folder corresponding to the cloned GitHub repository using the \"File\" > \"Open Folder...\" menu option.\n",
        "   - You should now see the `data` folder in your Visual Studio Code workspace.\n",
        "\n",
        "3. **Working with the `data` Folder:**\n",
        "   - You can access and use the contents of the `data` folder directly in your Python scripts or Jupyter notebooks within Visual Studio Code. For example, you can read data from files in the `data` folder using Python's file handling functions or libraries like Pandas."
      ]
    },
    {
      "cell_type": "markdown",
      "id": "792466ab",
      "metadata": {
        "id": "792466ab"
      },
      "source": [
        "# Course Tour"
      ]
    },
    {
      "cell_type": "markdown",
      "id": "51f0ccf3",
      "metadata": {
        "id": "51f0ccf3"
      },
      "source": [
        "## Getting Started\n",
        "\n",
        "What are the core features of Python?\n",
        "\n",
        "### Topics\n",
        "* Data types and variables\n",
        "* Expressions and statements\n",
        "* Functions\n",
        "* Dealing with errors\n",
        "* Comments and readability"
      ]
    },
    {
      "cell_type": "markdown",
      "id": "e7b999b1",
      "metadata": {
        "id": "e7b999b1"
      },
      "source": [
        "### What is Python?\n",
        "\n",
        "Python is a general-purpose programming language first released in 1991. It has since become a popular language for data science, thanks to an enthusiastic community and a large ecosystem of code libraries and tools that make it easier to perform common tasks throughout the data science life cycle."
      ]
    },
    {
      "cell_type": "markdown",
      "id": "0fc986f8",
      "metadata": {
        "id": "0fc986f8"
      },
      "source": [
        "```python\n",
        "# create a variable\n",
        "degrees_celsius = 25\n",
        "\n",
        "# convert to Fahrenheit\n",
        "(9 / 5) * degrees_celsius + 32\n",
        "\n",
        "# make it a function\n",
        "def c_to_f(degrees_c):\n",
        "    return (9 / 5) * degrees_c + 32\n",
        "```"
      ]
    },
    {
      "cell_type": "markdown",
      "id": "868274b6",
      "metadata": {
        "id": "868274b6"
      },
      "source": [
        "## Dealing with Reality\n",
        "\n",
        "What tools does Python give us for working with collections of values and for writing programs that change their behaviour based on data?\n",
        "\n",
        "### Topics\n",
        "* Logic\n",
        "* Conditionals\n",
        "* Iteration\n",
        "* Sequences and collections of values"
      ]
    },
    {
      "cell_type": "markdown",
      "id": "b467b4f1",
      "metadata": {
        "id": "b467b4f1"
      },
      "source": [
        "```python\n",
        "numbers = [2, 52, 18, 27, 5, 1937]\n",
        "\n",
        "for number in numbers:\n",
        "    if number % 2 == 0:\n",
        "        print('Even')\n",
        "    else:\n",
        "        print('Odd')\n",
        "```"
      ]
    },
    {
      "cell_type": "markdown",
      "id": "21e10c6d",
      "metadata": {
        "id": "21e10c6d"
      },
      "source": [
        "## In/Out\n",
        "\n",
        "How can we bring in outside code and data to accomplish tasks? How can we get data out of our programs?\n",
        "\n",
        "### Topics\n",
        "* Modules\n",
        "* Working with files\n",
        "* Object-oriented programming"
      ]
    },
    {
      "cell_type": "markdown",
      "id": "54cc9c05",
      "metadata": {
        "id": "54cc9c05"
      },
      "source": [
        "```python\n",
        "import os\n",
        "\n",
        "for f in os.listdir('folder'):\n",
        "    if f.endswith('.csv'):\n",
        "        # process file\n",
        "```"
      ]
    },
    {
      "cell_type": "markdown",
      "id": "1f112d0a",
      "metadata": {
        "id": "1f112d0a"
      },
      "source": [
        "## Doing More with Data\n",
        "\n",
        "How can we work with real data for analysis?\n",
        "\n",
        "### Topics\n",
        "* `numpy` and `pandas`\n",
        "* Loading tabular data\n",
        "* Exploring data\n",
        "* Wrangling data\n",
        "* Reshaping and combining datasets"
      ]
    },
    {
      "cell_type": "code",
      "execution_count": 10,
      "id": "87969905",
      "metadata": {
        "colab": {
          "base_uri": "https://localhost:8080/",
          "height": 204
        },
        "id": "87969905",
        "outputId": "80bc5632-62ca-4fdf-c63d-52c47e6f6009"
      },
      "outputs": [
        {
          "data": {
            "text/html": [
              "<div>\n",
              "<style scoped>\n",
              "    .dataframe tbody tr th:only-of-type {\n",
              "        vertical-align: middle;\n",
              "    }\n",
              "\n",
              "    .dataframe tbody tr th {\n",
              "        vertical-align: top;\n",
              "    }\n",
              "\n",
              "    .dataframe thead th {\n",
              "        text-align: right;\n",
              "    }\n",
              "</style>\n",
              "<table border=\"1\" class=\"dataframe\">\n",
              "  <thead>\n",
              "    <tr style=\"text-align: right;\">\n",
              "      <th></th>\n",
              "      <th>Characteristic</th>\n",
              "      <th>City of Toronto</th>\n",
              "    </tr>\n",
              "  </thead>\n",
              "  <tbody>\n",
              "    <tr>\n",
              "      <th>0</th>\n",
              "      <td>Neighbourhood Number</td>\n",
              "      <td>NaN</td>\n",
              "    </tr>\n",
              "    <tr>\n",
              "      <th>1</th>\n",
              "      <td>TSNS2020 Designation</td>\n",
              "      <td>NaN</td>\n",
              "    </tr>\n",
              "    <tr>\n",
              "      <th>2</th>\n",
              "      <td>Population, 2016</td>\n",
              "      <td>2,731,571</td>\n",
              "    </tr>\n",
              "    <tr>\n",
              "      <th>3</th>\n",
              "      <td>Population, 2011</td>\n",
              "      <td>2,615,060</td>\n",
              "    </tr>\n",
              "    <tr>\n",
              "      <th>4</th>\n",
              "      <td>Population Change 2011-2016</td>\n",
              "      <td>4.50%</td>\n",
              "    </tr>\n",
              "  </tbody>\n",
              "</table>\n",
              "</div>"
            ],
            "text/plain": [
              "                Characteristic City of Toronto\n",
              "0         Neighbourhood Number             NaN\n",
              "1         TSNS2020 Designation             NaN\n",
              "2             Population, 2016       2,731,571\n",
              "3             Population, 2011       2,615,060\n",
              "4  Population Change 2011-2016           4.50%"
            ]
          },
          "execution_count": 10,
          "metadata": {},
          "output_type": "execute_result"
        }
      ],
      "source": [
        "import pandas as pd\n",
        "\n",
        "neighbourhoods = pd.read_csv('../data/neighbourhood-profiles-2016-140-model.csv')\n",
        "neighbourhoods[['Characteristic', 'City of Toronto']].head()"
      ]
    },
    {
      "cell_type": "markdown",
      "id": "979ff54a",
      "metadata": {
        "id": "979ff54a"
      },
      "source": [
        "## Visualizing Data\n",
        "\n",
        "How do we create visualizations in Python?\n",
        "\n",
        "### Topics\n",
        "* `matplotlib`, `seaborn` and `plotly`\n",
        "* Bar charts, histograms, scatterplots, line charts\n",
        "* Faceting and layering"
      ]
    },
    {
      "cell_type": "code",
      "execution_count": 11,
      "id": "c9ff385c",
      "metadata": {
        "id": "c9ff385c"
      },
      "outputs": [],
      "source": [
        "neighbourhoods = (neighbourhoods\n",
        "                  .query('Characteristic == \"Population, 2016\"')\n",
        "                  .drop(columns=['_id',\n",
        "                                 'Category',\n",
        "                                 'Topic',\n",
        "                                 'Data Source',\n",
        "                                 'City of Toronto'])\n",
        "                  .melt(id_vars=['Characteristic'],\n",
        "                        var_name='Neighbourhood',\n",
        "                        value_name='Population, 2016'))\n",
        "neighbourhoods['Population, 2016'] = neighbourhoods['Population, 2016'].str.replace(',', '')\n",
        "neighbourhoods['Population, 2016'] = pd.to_numeric(neighbourhoods['Population, 2016'])\n",
        "neighbourhoods = neighbourhoods.sort_values(by='Population, 2016', ascending=False)"
      ]
    },
    {
      "cell_type": "code",
      "execution_count": 12,
      "id": "6b0f225e",
      "metadata": {
        "colab": {
          "base_uri": "https://localhost:8080/",
          "height": 502
        },
        "id": "6b0f225e",
        "outputId": "c7f3d476-26c4-46d2-9651-2119a1d65ba5"
      },
      "outputs": [
        {
          "data": {
            "text/plain": [
              "Text(0.5, 1.0, 'Biggest Toronto Neighbourhoods by Population')"
            ]
          },
          "execution_count": 12,
          "metadata": {},
          "output_type": "execute_result"
        },
        {
          "data": {
            "image/png": "[encoded data removed]",
            "text/plain": [
              "<Figure size 640x480 with 1 Axes>"
            ]
          },
          "metadata": {},
          "output_type": "display_data"
        }
      ],
      "source": [
        "import seaborn as sns\n",
        "\n",
        "sns.set_theme()\n",
        "\n",
        "(sns.barplot(data=neighbourhoods.head(10),\n",
        "            y='Neighbourhood',\n",
        "            x='Population, 2016')\n",
        "    .set_title('Biggest Toronto Neighbourhoods by Population',\n",
        "              fontdict={'fontsize': 18}))"
      ]
    },
    {
      "cell_type": "markdown",
      "id": "337958a7",
      "metadata": {
        "id": "337958a7"
      },
      "source": [
        "## Do It Again\n",
        "\n",
        "How can we make our work easier to reproduce and/or maintain?\n",
        "\n",
        "### Topics\n",
        "* Environments\n",
        "* Testing and debugging\n",
        "* Moving beyond notebooks"
      ]
    },
    {
      "cell_type": "code",
      "execution_count": 13,
      "id": "8fdc27ff",
      "metadata": {
        "colab": {
          "base_uri": "https://localhost:8080/"
        },
        "id": "8fdc27ff",
        "outputId": "73bd6857-85ae-48ae-dbc2-a1560b240238"
      },
      "outputs": [
        {
          "data": {
            "text/plain": [
              "TestResults(failed=0, attempted=2)"
            ]
          },
          "execution_count": 13,
          "metadata": {},
          "output_type": "execute_result"
        }
      ],
      "source": [
        "import doctest\n",
        "\n",
        "def c_to_f(degrees_c):\n",
        "    '''\n",
        "    Convert degrees Celsius to Fahrenheit\n",
        "    >>> c_to_f(0)\n",
        "    32.0\n",
        "    >>> c_to_f(10)\n",
        "    50.0\n",
        "    '''\n",
        "    return (9 / 5) * degrees_c + 32\n",
        "\n",
        "doctest.testmod()"
      ]
    },
    {
      "cell_type": "markdown",
      "id": "0d1c483c",
      "metadata": {
        "id": "0d1c483c"
      },
      "source": [
        "# Let's get started!"
      ]
    }
  ],
  "metadata": {
    "celltoolbar": "Slideshow",
    "colab": {
      "collapsed_sections": [
        "d96e1b69",
        "SGTL0-unuFjf"
      ],
      "provenance": []
    },
    "kernelspec": {
      "display_name": "Python 3 (ipykernel)",
      "language": "python",
      "name": "python3"
    },
    "language_info": {
      "codemirror_mode": {
        "name": "ipython",
        "version": 3
      },
      "file_extension": ".py",
      "mimetype": "text/x-python",
      "name": "python",
      "nbconvert_exporter": "python",
      "pygments_lexer": "ipython3",
      "version": "3.11.5"
    },
    "rise": {
      "scroll": true,
      "theme": "solarized",
      "transition": "none"
    }
  },
  "nbformat": 4,
  "nbformat_minor": 5
}
