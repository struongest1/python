{
 "cells": [
  {
   "cell_type": "code",
   "execution_count": 1,
   "metadata": {},
   "outputs": [
    {
     "name": "stdout",
     "output_type": "stream",
     "text": [
      "['c:\\\\Users\\\\TruongJ\\\\Documents\\\\Github\\\\python\\\\Assignment1\\\\data\\\\inflammation-01.csv', 'c:\\\\Users\\\\TruongJ\\\\Documents\\\\Github\\\\python\\\\Assignment1\\\\data\\\\inflammation-02.csv', 'c:\\\\Users\\\\TruongJ\\\\Documents\\\\Github\\\\python\\\\Assignment1\\\\data\\\\inflammation-03.csv', 'c:\\\\Users\\\\TruongJ\\\\Documents\\\\Github\\\\python\\\\Assignment1\\\\data\\\\inflammation-04.csv', 'c:\\\\Users\\\\TruongJ\\\\Documents\\\\Github\\\\python\\\\Assignment1\\\\data\\\\inflammation-05.csv', 'c:\\\\Users\\\\TruongJ\\\\Documents\\\\Github\\\\python\\\\Assignment1\\\\data\\\\inflammation-06.csv', 'c:\\\\Users\\\\TruongJ\\\\Documents\\\\Github\\\\python\\\\Assignment1\\\\data\\\\inflammation-07.csv', 'c:\\\\Users\\\\TruongJ\\\\Documents\\\\Github\\\\python\\\\Assignment1\\\\data\\\\inflammation-08.csv', 'c:\\\\Users\\\\TruongJ\\\\Documents\\\\Github\\\\python\\\\Assignment1\\\\data\\\\inflammation-09.csv', 'c:\\\\Users\\\\TruongJ\\\\Documents\\\\Github\\\\python\\\\Assignment1\\\\data\\\\inflammation-10.csv', 'c:\\\\Users\\\\TruongJ\\\\Documents\\\\Github\\\\python\\\\Assignment1\\\\data\\\\inflammation-11.csv', 'c:\\\\Users\\\\TruongJ\\\\Documents\\\\Github\\\\python\\\\Assignment1\\\\data\\\\inflammation-12.csv']\n"
     ]
    }
   ],
   "source": [
    "import os\n",
    "import csv\n",
    "\n",
    "'''Task 1 Get list of all inflaction file directories'''\n",
    "#Change directory to data folder\n",
    "os.chdir(r'\\Users\\TruongJ\\Documents\\Github\\python\\Assignment1\\data')\n",
    "DataPath = os.getcwd()\n",
    "# Get list of directories\n",
    "DirList = os.listdir()\n",
    "\n",
    "\n",
    "# Generate list that only save names that do now NOT contain 'small'\n",
    "Inflamation_list = []\n",
    "for line in DirList:\n",
    "    if \"small\" not in line:\n",
    "        Inflamation_list.append(line)\n",
    "              \n",
    "#Create new list that join path directory name with Inflammation CSV files\n",
    "Inflamation_directory = []\n",
    "for i in Inflamation_list:\n",
    "    Inflamation_directory.append(os.path.join(DataPath, i))\n",
    "    \n",
    "print (Inflamation_directory)\n",
    "\n",
    "'''Part 1 Task 2 - Read each row of csv'''\n",
    "with open (Inflamation_directory[0], 'r') as file:\n",
    "    contents = csv.reader(file)\n",
    "    for row in file:\n",
    "        print(row)\n",
    "    "
   ]
  },
  {
   "cell_type": "code",
   "execution_count": null,
   "metadata": {},
   "outputs": [],
   "source": [
    "'''Part 1 Task 2 - Read each row of csv'''\n",
    "with open (Inflamation_directory[0], 'r') as file:\n",
    "    contents = csv.reader(file)\n",
    "    for row in file:\n",
    "        print(row)\n"
   ]
  },
  {
   "cell_type": "code",
   "execution_count": null,
   "metadata": {},
   "outputs": [],
   "source": [
    "#Part  2 Task 2 create a function that calc. min max mena of each patient (row)\n",
    "##create a class ie patient, give patient 1-60 an instance... and buld a list and calc. min max mean from that list\n",
    "#Create function for min max mena\n",
    "\n",
    "\n",
    "\n",
    "for i in \n",
    "list1.mean\n",
    "list2.max\n",
    "list1.min"
   ]
  },
  {
   "cell_type": "code",
   "execution_count": 52,
   "metadata": {},
   "outputs": [],
   "source": [
    "import numpy as np\n",
    "\n",
    "def patient_summary(filename, operation):\n",
    "    # load the data from the file\n",
    "    data = np.loadtxt(fname=filename, delimiter=',')\n",
    "    ax = 1  # this specifies that the operation should be done for each row (patient)\n",
    "    \n",
    "    # implement the specific operation based on the 'operation' argument\n",
    "    # calculate mean of an array row \n",
    "    if operation == 'mean':\n",
    "        summary_values = np.mean(data,axis=1)\n",
    "    \n",
    "\n",
    "    elif operation == 'max':\n",
    "        summary_values = np.max(data,axis=1)\n",
    "\n",
    "    elif operation == 'min':\n",
    "        summary_values = np.min(data,axis=1)\n",
    "       \n",
    "    else:\n",
    "        # if the operation is not one of the expected values, raise an error\n",
    "        raise ValueError(\"Invalid operation. Please choose 'mean', 'max', or 'min'.\")\n",
    "\n",
    "    return summary_values"
   ]
  },
  {
   "cell_type": "code",
   "execution_count": 54,
   "metadata": {},
   "outputs": [
    {
     "data": {
      "text/plain": [
       "array([5.45 , 5.425, 6.1  , 5.9  , 5.55 , 6.225, 5.975, 6.65 , 6.625,\n",
       "       6.525, 6.775, 5.8  , 6.225, 5.75 , 5.225, 6.3  , 6.55 , 5.7  ,\n",
       "       5.85 , 6.55 , 5.775, 5.825, 6.175, 6.1  , 5.8  , 6.425, 6.05 ,\n",
       "       6.025, 6.175, 6.55 , 6.175, 6.35 , 6.725, 6.125, 7.075, 5.725,\n",
       "       5.925, 6.15 , 6.075, 5.75 , 5.975, 5.725, 6.3  , 5.9  , 6.75 ,\n",
       "       5.925, 7.225, 6.15 , 5.95 , 6.275, 5.7  , 6.1  , 6.825, 5.975,\n",
       "       6.725, 5.7  , 6.25 , 6.4  , 7.05 , 5.9  ])"
      ]
     },
     "execution_count": 54,
     "metadata": {},
     "output_type": "execute_result"
    }
   ],
   "source": [
    "patient_summary(Inflamation_directory[0], 'mean')"
   ]
  },
  {
   "cell_type": "code",
   "execution_count": 55,
   "metadata": {},
   "outputs": [
    {
     "name": "stdout",
     "output_type": "stream",
     "text": [
      "60\n"
     ]
    }
   ],
   "source": [
    "# test it out on the data file we read in and make sure the size is what we expect i.e., 60\n",
    "data_min = patient_summary(Inflamation_directory[0], 'min')\n",
    "print(len(data_min))"
   ]
  },
  {
   "cell_type": "code",
   "execution_count": 82,
   "metadata": {},
   "outputs": [],
   "source": [
    "\n",
    "data_mean = patient_summary(Inflamation_directory[1], 'mean')\n",
    "def check_zeros(x):\n",
    "    '''\n",
    "    Given an array, x, check whether any values in x equal 0.\n",
    "    Return True if any values found, else returns False.\n",
    "    '''\n",
    "    # np.where() checks every value in x against the condition (x == 0) and returns a tuple of indices where it was True (i.e. x was 0)\n",
    "    flag = np.where(x == 0)[0]\n",
    "    \n",
    "    # Checks if there are any objects in flag (i.e. not empty)\n",
    "    # If not empty, it found at least one zero so flag is True, and vice-versa.\n",
    "    \n",
    "    if len(flag) > 0:\n",
    "        print (\"True\")\n",
    "    else:\n",
    "        print (\"False\")\n",
    "\n",
    "    return flag"
   ]
  },
  {
   "cell_type": "code",
   "execution_count": 86,
   "metadata": {},
   "outputs": [],
   "source": [
    "data_mean = patient_summary(Inflamation_directory[1], 'mean')\n",
    "def check_zeros(x):\n",
    "    '''\n",
    "    Given an array, x, check whether any values in x equal 0.\n",
    "    Return True if any values found, else returns False.\n",
    "    '''\n",
    "    # np.where() checks every value in x against the condition (x == 0) and returns a tuple of indices where it was True (i.e. x was 0)\n",
    "    flag = np.where(x == 0)[0]\n",
    "    \n",
    "    # Checks if there are any objects in flag (i.e. not empty)\n",
    "    # If not empty, it found at least one zero so flag is True, and vice-versa.\n",
    "    \n",
    "    flag = len(flag) > 0\n",
    "  \n",
    "    return flag"
   ]
  },
  {
   "cell_type": "code",
   "execution_count": 81,
   "metadata": {},
   "outputs": [
    {
     "name": "stdout",
     "output_type": "stream",
     "text": [
      "[]\n"
     ]
    }
   ],
   "source": [
    "\n",
    "flag = np.where(data_mean == 0)[0]\n",
    "print(flag)"
   ]
  },
  {
   "cell_type": "code",
   "execution_count": 84,
   "metadata": {},
   "outputs": [
    {
     "name": "stdout",
     "output_type": "stream",
     "text": [
      "False\n"
     ]
    },
    {
     "data": {
      "text/plain": [
       "array([], dtype=int64)"
      ]
     },
     "execution_count": 84,
     "metadata": {},
     "output_type": "execute_result"
    }
   ],
   "source": [
    "check_zeros(data_mean)"
   ]
  },
  {
   "cell_type": "code",
   "execution_count": 61,
   "metadata": {},
   "outputs": [],
   "source": [
    "x = patient_summary(Inflamation_directory[0], 'mean')\n",
    "flag = np.where(x == 0,\n",
    "                'True',\n",
    "                'False')[0]\n"
   ]
  },
  {
   "cell_type": "code",
   "execution_count": 91,
   "metadata": {},
   "outputs": [],
   "source": [
    "# Define your function `detect_problems` here\n",
    "\n",
    "def detect_problems(filename):\n",
    "  #YOUR CODE HERE: use patient_summary() to get the means and check_zeros() to check for zeros in the means\n",
    "  # save patient summary as variable\n",
    "  MeanReport = patient_summary(filename, 'mean')\n",
    "  flag = check_zeros(MeanReport)\n",
    "  return flag"
   ]
  },
  {
   "cell_type": "code",
   "execution_count": 92,
   "metadata": {},
   "outputs": [
    {
     "data": {
      "text/plain": [
       "False"
      ]
     },
     "execution_count": 92,
     "metadata": {},
     "output_type": "execute_result"
    }
   ],
   "source": [
    "detect_problems(Inflamation_directory[0])"
   ]
  },
  {
   "cell_type": "code",
   "execution_count": 87,
   "metadata": {},
   "outputs": [],
   "source": [
    "data_mean = patient_summary(Inflamation_directory[1], 'mean')\n",
    "def check_zeros(x):\n",
    "    '''\n",
    "    Given an array, x, check whether any values in x equal 0.\n",
    "    Return True if any values found, else returns False.\n",
    "    '''\n",
    "    # np.where() checks every value in x against the condition (x == 0) and returns a tuple of indices where it was True (i.e. x was 0)\n",
    "    flag = np.where(x == 0)[0]\n",
    "    \n",
    "    # Checks if there are any objects in flag (i.e. not empty)\n",
    "    # If not empty, it found at least one zero so flag is True, and vice-versa.\n",
    "    \n",
    "    flag = len(flag) > 0\n",
    "   \n",
    "\n",
    "    return flag"
   ]
  },
  {
   "cell_type": "code",
   "execution_count": 88,
   "metadata": {},
   "outputs": [
    {
     "data": {
      "text/plain": [
       "False"
      ]
     },
     "execution_count": 88,
     "metadata": {},
     "output_type": "execute_result"
    }
   ],
   "source": [
    "check_zeros(data_mean)"
   ]
  }
 ],
 "metadata": {
  "kernelspec": {
   "display_name": "base",
   "language": "python",
   "name": "python3"
  },
  "language_info": {
   "codemirror_mode": {
    "name": "ipython",
    "version": 3
   },
   "file_extension": ".py",
   "mimetype": "text/x-python",
   "name": "python",
   "nbconvert_exporter": "python",
   "pygments_lexer": "ipython3",
   "version": "3.9.13"
  }
 },
 "nbformat": 4,
 "nbformat_minor": 2
}
