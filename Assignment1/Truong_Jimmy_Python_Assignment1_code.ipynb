{
 "cells": [
  {
   "cell_type": "code",
   "execution_count": null,
   "metadata": {},
   "outputs": [],
   "source": [
    "import os\n",
    "import csv\n",
    "\n",
    "'''Part 1 Task 1 Get list of all inflaction file directories'''\n",
    "#Change directory to data folder\n",
    "os.chdir(r'\\Users\\TruongJ\\Documents\\Github\\python\\Assignment1\\data')\n",
    "DataPath = os.getcwd()\n",
    "# Get list of directories\n",
    "DirList = os.listdir()\n",
    "\n",
    "\n",
    "# Generate list that only save names that do not NOT contain 'small'\n",
    "Inflamation_list = []\n",
    "for line in DirList:\n",
    "    if \"small\" not in line:\n",
    "        Inflamation_list.append(line)\n",
    "              \n",
    "#Create new list that join path directory name with Inflammation CSV files\n",
    "Inflamation_directory = []\n",
    "for i in Inflamation_list:\n",
    "    Inflamation_directory.append(os.path.join(DataPath, i))\n",
    "    \n",
    "print (Inflamation_directory)\n",
    "\n",
    "\n",
    "'''Part 1 Task 2 - Read each row of csv'''\n",
    "with open (Inflamation_directory[0], 'r') as file:\n",
    "    contents = csv.reader(file)\n",
    "    for row in file:\n",
    "        print(row)"
   ]
  },
  {
   "cell_type": "code",
   "execution_count": 43,
   "metadata": {},
   "outputs": [],
   "source": [
    "'''Part 2 create a function that gives you mean min or max of a row of patient data in a .csv files'''\n",
    "\n",
    "import numpy as np\n",
    "\n",
    "def patient_summary(filename, operation):\n",
    "    # load the data from the file\n",
    "    data = np.loadtxt(fname=filename, delimiter=',')\n",
    "    ax = 1  # this specifies that the operation should be done for each row (patient)\n",
    "    \n",
    "    # implement the specific operation based on the 'operation' argument\n",
    "    # calculate mean of an array row \n",
    "    if operation == 'mean':\n",
    "        summary_values = np.mean(data,axis=1)\n",
    "    \n",
    "\n",
    "    elif operation == 'max':\n",
    "        summary_values = np.max(data,axis=1)\n",
    "\n",
    "    elif operation == 'min':\n",
    "        summary_values = np.min(data,axis=1)\n",
    "       \n",
    "    else:\n",
    "        # if the operation is not one of the expected values, raise an error\n",
    "        raise ValueError(\"Invalid operation. Please choose 'mean', 'max', or 'min'.\")\n",
    "\n",
    "    return summary_values"
   ]
  },
  {
   "cell_type": "code",
   "execution_count": 44,
   "metadata": {},
   "outputs": [],
   "source": [
    "#Task 3 create a function that will screen if any patient has a mean of 0 and flag dataset\n",
    "\n",
    "\n",
    "data_mean = patient_summary(Inflamation_directory[1], 'mean')\n",
    "def check_zeros(x):\n",
    "    '''\n",
    "    Given an array, x, check whether any values in x equal 0.\n",
    "    Return True if any values found, else returns False.\n",
    "    '''\n",
    "    # np.where() checks every value in x against the condition (x == 0) and returns a tuple of indices where it was True (i.e. x was 0)\n",
    "    flag = np.where(x == 0)[0]\n",
    "    \n",
    "    # Checks if there are any objects in flag (i.e. not empty)\n",
    "    # If not empty, it found at least one zero so flag is True, and vice-versa.\n",
    "    \n",
    "    flag = len(flag) > 0\n",
    "   \n",
    "\n",
    "    return flag\n",
    "\n",
    "\n",
    "# Define your function `detect_problems` here\n",
    "\n",
    "def detect_problems(filename):\n",
    "  #YOUR CODE HERE: use patient_summary() to get the means and check_zeros() to check for zeros in the means\n",
    "  # save patient summary as variable\n",
    "  MeanReport = patient_summary(filename, 'mean')\n",
    "  flag = check_zeros(MeanReport)\n",
    "  return flag"
   ]
  },
  {
   "cell_type": "code",
   "execution_count": 45,
   "metadata": {},
   "outputs": [
    {
     "data": {
      "text/plain": [
       "False"
      ]
     },
     "execution_count": 45,
     "metadata": {},
     "output_type": "execute_result"
    }
   ],
   "source": [
    "#Check if function works\n",
    "\n",
    "detect_problems(Inflamation_directory[1])\n"
   ]
  }
 ],
 "metadata": {
  "kernelspec": {
   "display_name": "base",
   "language": "python",
   "name": "python3"
  },
  "language_info": {
   "codemirror_mode": {
    "name": "ipython",
    "version": 3
   },
   "file_extension": ".py",
   "mimetype": "text/x-python",
   "name": "python",
   "nbconvert_exporter": "python",
   "pygments_lexer": "ipython3",
   "version": "3.9.13"
  }
 },
 "nbformat": 4,
 "nbformat_minor": 2
}
